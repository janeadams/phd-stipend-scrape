{
 "cells": [
  {
   "cell_type": "code",
   "execution_count": 1,
   "id": "a71140ab",
   "metadata": {},
   "outputs": [],
   "source": [
    "import requests\n",
    "import pandas as pd"
   ]
  },
  {
   "cell_type": "code",
   "execution_count": 2,
   "id": "eae275a9",
   "metadata": {},
   "outputs": [],
   "source": [
    "df = pd.DataFrame()"
   ]
  },
  {
   "cell_type": "code",
   "execution_count": 3,
   "id": "14552768",
   "metadata": {},
   "outputs": [],
   "source": [
    "for i in range(0,140):\n",
    "    response = requests.get('https://www.phdstipends.com/data/'+str(i))\n",
    "    j = response.json()\n",
    "    df = pd.concat([df, pd.DataFrame.from_dict(j['data'])])\n",
    "# WARNING: They have removed their 'living wage ratio' from their website, presumably due to a data integrity issue.\n",
    "# Use Living Wage data from elsewhere for your area."
   ]
  },
  {
   "cell_type": "code",
   "execution_count": 4,
   "id": "a0c9086b",
   "metadata": {},
   "outputs": [],
   "source": [
    "df.columns = ['University','Department','Overall Pay', 'Living Wage Ratio','Academic Year','Program Year','Comments','12M Gross Pay','9M Gross Pay', '3M Gross Pay', 'Fees']\n",
    "df.to_csv('stipends.csv', index=False)"
   ]
  },
  {
   "cell_type": "code",
   "execution_count": 5,
   "id": "509725df",
   "metadata": {
    "scrolled": true
   },
   "outputs": [
    {
     "data": {
      "text/html": [
       "<div>\n",
       "<style scoped>\n",
       "    .dataframe tbody tr th:only-of-type {\n",
       "        vertical-align: middle;\n",
       "    }\n",
       "\n",
       "    .dataframe tbody tr th {\n",
       "        vertical-align: top;\n",
       "    }\n",
       "\n",
       "    .dataframe thead th {\n",
       "        text-align: right;\n",
       "    }\n",
       "</style>\n",
       "<table border=\"1\" class=\"dataframe\">\n",
       "  <thead>\n",
       "    <tr style=\"text-align: right;\">\n",
       "      <th></th>\n",
       "      <th>University</th>\n",
       "      <th>Department</th>\n",
       "      <th>Overall Pay</th>\n",
       "      <th>Living Wage Ratio</th>\n",
       "      <th>Academic Year</th>\n",
       "      <th>Program Year</th>\n",
       "      <th>Comments</th>\n",
       "      <th>12M Gross Pay</th>\n",
       "      <th>9M Gross Pay</th>\n",
       "      <th>3M Gross Pay</th>\n",
       "      <th>Fees</th>\n",
       "    </tr>\n",
       "  </thead>\n",
       "  <tbody>\n",
       "    <tr>\n",
       "      <th>0</th>\n",
       "      <td>University of California - Santa Barbara (UCSB)</td>\n",
       "      <td>Chemical Engineering</td>\n",
       "      <td>$31,125</td>\n",
       "      <td>1.27</td>\n",
       "      <td>2014-2015</td>\n",
       "      <td>1st</td>\n",
       "      <td></td>\n",
       "      <td>$31,250</td>\n",
       "      <td></td>\n",
       "      <td></td>\n",
       "      <td>$125</td>\n",
       "    </tr>\n",
       "    <tr>\n",
       "      <th>1</th>\n",
       "      <td>Pennsylvania State University (Penn State)</td>\n",
       "      <td>Chemistry</td>\n",
       "      <td>$20,500</td>\n",
       "      <td>1.11</td>\n",
       "      <td>2014-2015</td>\n",
       "      <td>2nd</td>\n",
       "      <td></td>\n",
       "      <td>$20,500</td>\n",
       "      <td></td>\n",
       "      <td></td>\n",
       "      <td></td>\n",
       "    </tr>\n",
       "    <tr>\n",
       "      <th>2</th>\n",
       "      <td>University of California - San Diego (UCSD)</td>\n",
       "      <td>Mathematics</td>\n",
       "      <td>$20,500</td>\n",
       "      <td>0.87</td>\n",
       "      <td>2013-2014</td>\n",
       "      <td>4th</td>\n",
       "      <td></td>\n",
       "      <td></td>\n",
       "      <td>$18,000</td>\n",
       "      <td>$2,500</td>\n",
       "      <td></td>\n",
       "    </tr>\n",
       "    <tr>\n",
       "      <th>3</th>\n",
       "      <td>University of North Carolina - Chapel Hill (UNC)</td>\n",
       "      <td>Chemistry</td>\n",
       "      <td>$26,700</td>\n",
       "      <td>1.42</td>\n",
       "      <td>2014-2015</td>\n",
       "      <td>2nd</td>\n",
       "      <td>Through BBSP</td>\n",
       "      <td>$28,500</td>\n",
       "      <td></td>\n",
       "      <td></td>\n",
       "      <td>$1,800</td>\n",
       "    </tr>\n",
       "    <tr>\n",
       "      <th>4</th>\n",
       "      <td>University of California - Santa Barbara (UCSB)</td>\n",
       "      <td>Materials</td>\n",
       "      <td>$34,000</td>\n",
       "      <td>1.38</td>\n",
       "      <td>2013-2014</td>\n",
       "      <td>5th</td>\n",
       "      <td>This is the gross pay for someone with a fello...</td>\n",
       "      <td>$34,000</td>\n",
       "      <td></td>\n",
       "      <td></td>\n",
       "      <td></td>\n",
       "    </tr>\n",
       "    <tr>\n",
       "      <th>...</th>\n",
       "      <td>...</td>\n",
       "      <td>...</td>\n",
       "      <td>...</td>\n",
       "      <td>...</td>\n",
       "      <td>...</td>\n",
       "      <td>...</td>\n",
       "      <td>...</td>\n",
       "      <td>...</td>\n",
       "      <td>...</td>\n",
       "      <td>...</td>\n",
       "      <td>...</td>\n",
       "    </tr>\n",
       "    <tr>\n",
       "      <th>101</th>\n",
       "      <td>Cornell University (CU)</td>\n",
       "      <td>Biological and Environmental Engineering</td>\n",
       "      <td>$32,950</td>\n",
       "      <td>1.36</td>\n",
       "      <td>2017-2018</td>\n",
       "      <td>4th</td>\n",
       "      <td>Includes health insurance</td>\n",
       "      <td>$33,000</td>\n",
       "      <td></td>\n",
       "      <td></td>\n",
       "      <td>$50</td>\n",
       "    </tr>\n",
       "    <tr>\n",
       "      <th>102</th>\n",
       "      <td>San Diego State University (SDSU)</td>\n",
       "      <td>Mechanical Engineering</td>\n",
       "      <td>$21,376</td>\n",
       "      <td>0.81</td>\n",
       "      <td>2021-2022</td>\n",
       "      <td>2nd</td>\n",
       "      <td></td>\n",
       "      <td>$23,376</td>\n",
       "      <td></td>\n",
       "      <td></td>\n",
       "      <td>$2,000</td>\n",
       "    </tr>\n",
       "    <tr>\n",
       "      <th>103</th>\n",
       "      <td>University of Texas - Austin (UT)</td>\n",
       "      <td>Chemical Engineering</td>\n",
       "      <td>$35,000</td>\n",
       "      <td>1.53</td>\n",
       "      <td>2022-2023</td>\n",
       "      <td>1st</td>\n",
       "      <td>Health insurance, dental insurance, and vision...</td>\n",
       "      <td>$35,000</td>\n",
       "      <td></td>\n",
       "      <td></td>\n",
       "      <td></td>\n",
       "    </tr>\n",
       "    <tr>\n",
       "      <th>104</th>\n",
       "      <td>University of Wisconsin - Madison (UW)</td>\n",
       "      <td>Human Ecology</td>\n",
       "      <td>$21,115</td>\n",
       "      <td>0.92</td>\n",
       "      <td>2022-2023</td>\n",
       "      <td>2nd</td>\n",
       "      <td></td>\n",
       "      <td></td>\n",
       "      <td>$21,115</td>\n",
       "      <td></td>\n",
       "      <td></td>\n",
       "    </tr>\n",
       "    <tr>\n",
       "      <th>105</th>\n",
       "      <td>Yale University (YU)</td>\n",
       "      <td>MCDB</td>\n",
       "      <td>$43,000</td>\n",
       "      <td>1.74</td>\n",
       "      <td>2022-2023</td>\n",
       "      <td></td>\n",
       "      <td></td>\n",
       "      <td>$43,000</td>\n",
       "      <td></td>\n",
       "      <td></td>\n",
       "      <td></td>\n",
       "    </tr>\n",
       "  </tbody>\n",
       "</table>\n",
       "<p>14044 rows × 11 columns</p>\n",
       "</div>"
      ],
      "text/plain": [
       "                                           University  \\\n",
       "0     University of California - Santa Barbara (UCSB)   \n",
       "1          Pennsylvania State University (Penn State)   \n",
       "2         University of California - San Diego (UCSD)   \n",
       "3    University of North Carolina - Chapel Hill (UNC)   \n",
       "4     University of California - Santa Barbara (UCSB)   \n",
       "..                                                ...   \n",
       "101                           Cornell University (CU)   \n",
       "102                 San Diego State University (SDSU)   \n",
       "103                 University of Texas - Austin (UT)   \n",
       "104            University of Wisconsin - Madison (UW)   \n",
       "105                              Yale University (YU)   \n",
       "\n",
       "                                   Department Overall Pay Living Wage Ratio  \\\n",
       "0                        Chemical Engineering     $31,125              1.27   \n",
       "1                                   Chemistry     $20,500              1.11   \n",
       "2                                 Mathematics     $20,500              0.87   \n",
       "3                                   Chemistry     $26,700              1.42   \n",
       "4                                   Materials     $34,000              1.38   \n",
       "..                                        ...         ...               ...   \n",
       "101  Biological and Environmental Engineering     $32,950              1.36   \n",
       "102                   Mechanical Engineering      $21,376              0.81   \n",
       "103                      Chemical Engineering     $35,000              1.53   \n",
       "104                             Human Ecology     $21,115              0.92   \n",
       "105                                      MCDB     $43,000              1.74   \n",
       "\n",
       "    Academic Year Program Year  \\\n",
       "0       2014-2015          1st   \n",
       "1       2014-2015          2nd   \n",
       "2       2013-2014          4th   \n",
       "3       2014-2015          2nd   \n",
       "4       2013-2014          5th   \n",
       "..            ...          ...   \n",
       "101     2017-2018          4th   \n",
       "102     2021-2022          2nd   \n",
       "103     2022-2023          1st   \n",
       "104     2022-2023          2nd   \n",
       "105     2022-2023                \n",
       "\n",
       "                                              Comments 12M Gross Pay  \\\n",
       "0                                                            $31,250   \n",
       "1                                                            $20,500   \n",
       "2                                                                      \n",
       "3                                         Through BBSP       $28,500   \n",
       "4    This is the gross pay for someone with a fello...       $34,000   \n",
       "..                                                 ...           ...   \n",
       "101                          Includes health insurance       $33,000   \n",
       "102                                                          $23,376   \n",
       "103  Health insurance, dental insurance, and vision...       $35,000   \n",
       "104                                                                    \n",
       "105                                                          $43,000   \n",
       "\n",
       "    9M Gross Pay 3M Gross Pay    Fees  \n",
       "0                                $125  \n",
       "1                                      \n",
       "2        $18,000       $2,500          \n",
       "3                              $1,800  \n",
       "4                                      \n",
       "..           ...          ...     ...  \n",
       "101                               $50  \n",
       "102                            $2,000  \n",
       "103                                    \n",
       "104      $21,115                       \n",
       "105                                    \n",
       "\n",
       "[14044 rows x 11 columns]"
      ]
     },
     "execution_count": 5,
     "metadata": {},
     "output_type": "execute_result"
    }
   ],
   "source": [
    "df"
   ]
  },
  {
   "cell_type": "code",
   "execution_count": 6,
   "id": "0f7a1060",
   "metadata": {},
   "outputs": [],
   "source": [
    "def format_year(a):\n",
    "    try:\n",
    "        return float(a.split('-')[0])\n",
    "    except:\n",
    "        return 0\n",
    "df['Academic Year'] = [format_year(a) for a in df['Academic Year']]\n",
    "df = df.sort_values(by=['Academic Year'])"
   ]
  },
  {
   "cell_type": "code",
   "execution_count": 7,
   "id": "1d92c4bc",
   "metadata": {},
   "outputs": [],
   "source": [
    "def format_pay(p):\n",
    "    p_stripped = p.replace('$','').replace(',','')\n",
    "    try:\n",
    "        return float(p_stripped)\n",
    "    except:\n",
    "        return p_stripped\n",
    "df['Overall Pay'] = [format_pay(p) for p in df['Overall Pay']]"
   ]
  },
  {
   "cell_type": "code",
   "execution_count": 8,
   "id": "e3cb263a",
   "metadata": {},
   "outputs": [],
   "source": [
    "def format_ratio(r):\n",
    "    try:\n",
    "        return float(r)\n",
    "    except:\n",
    "        return None\n",
    "df['Living Wage Ratio'] = [format_ratio(r) for r in df['Living Wage Ratio']]"
   ]
  },
  {
   "cell_type": "code",
   "execution_count": 10,
   "id": "b5d4f588",
   "metadata": {},
   "outputs": [],
   "source": [
    "def format_dept(d):\n",
    "    d = d.lower()\n",
    "    if 'psych' in d:\n",
    "        return 'Psychology'\n",
    "    if 'sociology' in d:\n",
    "        return 'Sociology'\n",
    "    if 'english' in d:\n",
    "        return 'English'\n",
    "    if ('computer' in d) or ('khoury' in d):\n",
    "        return 'Computer Science or Engineering'\n",
    "    if 'mech' in d:\n",
    "        return 'Mechanical Engineering'\n",
    "    if 'chem' in d:\n",
    "        return 'Chemistry / Chemical Engineering'\n",
    "    if ('marine' in d) or ('env' in d):\n",
    "        return 'Marine and Environmental Sciences'\n",
    "    if 'math' in d:\n",
    "        return 'Mathematics'\n",
    "    if 'econ' in d:\n",
    "        return 'Economics'\n",
    "    else:\n",
    "        return d.title()\n",
    "df['Department'] = [format_dept(d) for d in df['Department']]"
   ]
  },
  {
   "cell_type": "code",
   "execution_count": 11,
   "id": "4cbe999b",
   "metadata": {},
   "outputs": [],
   "source": [
    "df['Comments'] = [c.replace('. ', '.<br>').replace(', ', ',<br>').replace(') ', ')<br>') for c in df['Comments']]"
   ]
  },
  {
   "cell_type": "code",
   "execution_count": 12,
   "id": "1ec25cee",
   "metadata": {},
   "outputs": [],
   "source": [
    "neu = df[df['University']=='Northeastern University (NU)']"
   ]
  },
  {
   "cell_type": "code",
   "execution_count": 30,
   "id": "4993546a",
   "metadata": {},
   "outputs": [
    {
     "data": {
      "text/html": [
       "<div>\n",
       "<style scoped>\n",
       "    .dataframe tbody tr th:only-of-type {\n",
       "        vertical-align: middle;\n",
       "    }\n",
       "\n",
       "    .dataframe tbody tr th {\n",
       "        vertical-align: top;\n",
       "    }\n",
       "\n",
       "    .dataframe thead th {\n",
       "        text-align: right;\n",
       "    }\n",
       "</style>\n",
       "<table border=\"1\" class=\"dataframe\">\n",
       "  <thead>\n",
       "    <tr style=\"text-align: right;\">\n",
       "      <th></th>\n",
       "      <th>year</th>\n",
       "      <th>No child pre-tax</th>\n",
       "      <th>No child post-tax</th>\n",
       "      <th>1 child pre-tax</th>\n",
       "      <th>1 child post-tax</th>\n",
       "    </tr>\n",
       "  </thead>\n",
       "  <tbody>\n",
       "    <tr>\n",
       "      <th>0</th>\n",
       "      <td>2014</td>\n",
       "      <td>NaN</td>\n",
       "      <td>NaN</td>\n",
       "      <td>NaN</td>\n",
       "      <td>NaN</td>\n",
       "    </tr>\n",
       "    <tr>\n",
       "      <th>1</th>\n",
       "      <td>2015</td>\n",
       "      <td>27660.0</td>\n",
       "      <td>23698.0</td>\n",
       "      <td>56706.0</td>\n",
       "      <td>48583.0</td>\n",
       "    </tr>\n",
       "    <tr>\n",
       "      <th>2</th>\n",
       "      <td>2016</td>\n",
       "      <td>26411.0</td>\n",
       "      <td>23375.0</td>\n",
       "      <td>55409.0</td>\n",
       "      <td>49038.0</td>\n",
       "    </tr>\n",
       "    <tr>\n",
       "      <th>3</th>\n",
       "      <td>2017</td>\n",
       "      <td>27078.0</td>\n",
       "      <td>23807.0</td>\n",
       "      <td>56812.0</td>\n",
       "      <td>49949.0</td>\n",
       "    </tr>\n",
       "    <tr>\n",
       "      <th>4</th>\n",
       "      <td>2018</td>\n",
       "      <td>29345.0</td>\n",
       "      <td>25753.0</td>\n",
       "      <td>62724.0</td>\n",
       "      <td>55045.0</td>\n",
       "    </tr>\n",
       "    <tr>\n",
       "      <th>5</th>\n",
       "      <td>2019</td>\n",
       "      <td>30577.0</td>\n",
       "      <td>26834.0</td>\n",
       "      <td>63710.0</td>\n",
       "      <td>55910.0</td>\n",
       "    </tr>\n",
       "    <tr>\n",
       "      <th>6</th>\n",
       "      <td>2020</td>\n",
       "      <td>34824.0</td>\n",
       "      <td>30560.0</td>\n",
       "      <td>70298.0</td>\n",
       "      <td>61692.0</td>\n",
       "    </tr>\n",
       "    <tr>\n",
       "      <th>7</th>\n",
       "      <td>2021</td>\n",
       "      <td>39879.0</td>\n",
       "      <td>34315.0</td>\n",
       "      <td>81282.0</td>\n",
       "      <td>69943.0</td>\n",
       "    </tr>\n",
       "    <tr>\n",
       "      <th>8</th>\n",
       "      <td>2022</td>\n",
       "      <td>46918.0</td>\n",
       "      <td>38027.0</td>\n",
       "      <td>93854.0</td>\n",
       "      <td>76069.0</td>\n",
       "    </tr>\n",
       "  </tbody>\n",
       "</table>\n",
       "</div>"
      ],
      "text/plain": [
       "   year  No child pre-tax  No child post-tax  1 child pre-tax  \\\n",
       "0  2014               NaN                NaN              NaN   \n",
       "1  2015           27660.0            23698.0          56706.0   \n",
       "2  2016           26411.0            23375.0          55409.0   \n",
       "3  2017           27078.0            23807.0          56812.0   \n",
       "4  2018           29345.0            25753.0          62724.0   \n",
       "5  2019           30577.0            26834.0          63710.0   \n",
       "6  2020           34824.0            30560.0          70298.0   \n",
       "7  2021           39879.0            34315.0          81282.0   \n",
       "8  2022           46918.0            38027.0          93854.0   \n",
       "\n",
       "   1 child post-tax  \n",
       "0               NaN  \n",
       "1           48583.0  \n",
       "2           49038.0  \n",
       "3           49949.0  \n",
       "4           55045.0  \n",
       "5           55910.0  \n",
       "6           61692.0  \n",
       "7           69943.0  \n",
       "8           76069.0  "
      ]
     },
     "execution_count": 30,
     "metadata": {},
     "output_type": "execute_result"
    }
   ],
   "source": [
    "# Data from https://livingwage.mit.edu/metros/14460\n",
    "# and archival from https://web.archive.org/web/changes/https://livingwage.mit.edu/metros/14460\n",
    "living_wages = {\n",
    "    2014:[None,None],\n",
    "    2015:[27_660, 23_698, 56_706, 48_583],\n",
    "    2016:[26_411, 23_375, 55_409, 49_038],\n",
    "    2017:[27_078, 23_807, 56_812, 49_949],\n",
    "    2018:[29_345, 25_753, 62_724, 55_045],\n",
    "    2019:[30_577, 26_834, 63_710, 55_910],\n",
    "    2020:[34_824, 30_560, 70_298, 61_692],\n",
    "    2021:[39_879, 34_315, 81_282, 69_943],\n",
    "    2022:[46_918, 38_027, 93_854, 76_069],\n",
    "}\n",
    "living_wage_df = pd.DataFrame.from_dict(data=living_wages, orient='index',columns=['No child pre-tax', 'No child post-tax', '1 child pre-tax', '1 child post-tax']).reset_index().rename(columns={'index':'year'})\n",
    "living_wage_df"
   ]
  },
  {
   "cell_type": "code",
   "execution_count": 32,
   "id": "8044f85b",
   "metadata": {},
   "outputs": [
    {
     "data": {
      "text/html": [
       "<div>\n",
       "<style scoped>\n",
       "    .dataframe tbody tr th:only-of-type {\n",
       "        vertical-align: middle;\n",
       "    }\n",
       "\n",
       "    .dataframe tbody tr th {\n",
       "        vertical-align: top;\n",
       "    }\n",
       "\n",
       "    .dataframe thead th {\n",
       "        text-align: right;\n",
       "    }\n",
       "</style>\n",
       "<table border=\"1\" class=\"dataframe\">\n",
       "  <thead>\n",
       "    <tr style=\"text-align: right;\">\n",
       "      <th></th>\n",
       "      <th>year</th>\n",
       "      <th>1 Adult</th>\n",
       "      <th>1 Adult 1 Child</th>\n",
       "      <th>2 Adults</th>\n",
       "    </tr>\n",
       "  </thead>\n",
       "  <tbody>\n",
       "    <tr>\n",
       "      <th>0</th>\n",
       "      <td>2014</td>\n",
       "      <td>NaN</td>\n",
       "      <td>NaN</td>\n",
       "      <td>NaN</td>\n",
       "    </tr>\n",
       "    <tr>\n",
       "      <th>1</th>\n",
       "      <td>2015</td>\n",
       "      <td>11661.0</td>\n",
       "      <td>16368.0</td>\n",
       "      <td>13013.0</td>\n",
       "    </tr>\n",
       "    <tr>\n",
       "      <th>2</th>\n",
       "      <td>2016</td>\n",
       "      <td>11661.0</td>\n",
       "      <td>16368.0</td>\n",
       "      <td>13013.0</td>\n",
       "    </tr>\n",
       "    <tr>\n",
       "      <th>3</th>\n",
       "      <td>2017</td>\n",
       "      <td>11939.0</td>\n",
       "      <td>17617.0</td>\n",
       "      <td>14088.0</td>\n",
       "    </tr>\n",
       "    <tr>\n",
       "      <th>4</th>\n",
       "      <td>2018</td>\n",
       "      <td>13333.0</td>\n",
       "      <td>18839.0</td>\n",
       "      <td>15195.0</td>\n",
       "    </tr>\n",
       "    <tr>\n",
       "      <th>5</th>\n",
       "      <td>2019</td>\n",
       "      <td>14019.0</td>\n",
       "      <td>19491.0</td>\n",
       "      <td>15789.0</td>\n",
       "    </tr>\n",
       "    <tr>\n",
       "      <th>6</th>\n",
       "      <td>2020</td>\n",
       "      <td>17352.0</td>\n",
       "      <td>23846.0</td>\n",
       "      <td>19392.0</td>\n",
       "    </tr>\n",
       "    <tr>\n",
       "      <th>7</th>\n",
       "      <td>2021</td>\n",
       "      <td>18466.0</td>\n",
       "      <td>25112.0</td>\n",
       "      <td>20425.0</td>\n",
       "    </tr>\n",
       "    <tr>\n",
       "      <th>8</th>\n",
       "      <td>2022</td>\n",
       "      <td>18675.0</td>\n",
       "      <td>25408.0</td>\n",
       "      <td>20688.0</td>\n",
       "    </tr>\n",
       "  </tbody>\n",
       "</table>\n",
       "</div>"
      ],
      "text/plain": [
       "   year  1 Adult  1 Adult 1 Child  2 Adults\n",
       "0  2014      NaN              NaN       NaN\n",
       "1  2015  11661.0          16368.0   13013.0\n",
       "2  2016  11661.0          16368.0   13013.0\n",
       "3  2017  11939.0          17617.0   14088.0\n",
       "4  2018  13333.0          18839.0   15195.0\n",
       "5  2019  14019.0          19491.0   15789.0\n",
       "6  2020  17352.0          23846.0   19392.0\n",
       "7  2021  18466.0          25112.0   20425.0\n",
       "8  2022  18675.0          25408.0   20688.0"
      ]
     },
     "execution_count": 32,
     "metadata": {},
     "output_type": "execute_result"
    }
   ],
   "source": [
    "# Data from https://livingwage.mit.edu/metros/14460\n",
    "# and archival from https://web.archive.org/web/changes/https://livingwage.mit.edu/metros/14460\n",
    "rent = {\n",
    "    2014:[None,None],\n",
    "    2015:[11_661, 16_368, 13_013],\n",
    "    2016:[11_661, 16_368, 13_013],\n",
    "    2017:[11_939, 17_617, 14_088],\n",
    "    2018:[13_333, 18_839, 15_195],\n",
    "    2019:[14_019, 19_491, 15_789],\n",
    "    2020:[17_352, 23_846, 19_392],\n",
    "    2021:[18_466, 25_112, 20_425],\n",
    "    2022:[18_675, 25_408, 20_688],\n",
    "}\n",
    "rent_df = pd.DataFrame.from_dict(data=rent, orient='index',columns=['1 Adult', '1 Adult 1 Child', '2 Adults']).reset_index().rename(columns={'index':'year'})\n",
    "rent_df"
   ]
  },
  {
   "cell_type": "code",
   "execution_count": 25,
   "id": "ae18ff1e",
   "metadata": {},
   "outputs": [],
   "source": [
    "import plotly.express as px\n",
    "import plotly.graph_objects as go"
   ]
  },
  {
   "cell_type": "code",
   "execution_count": 54,
   "id": "a27dbfab",
   "metadata": {},
   "outputs": [
    {
     "data": {
      "application/vnd.plotly.v1+json": {
       "config": {
        "plotlyServerURL": "https://plot.ly"
       },
       "data": [
        {
         "marker": {
          "line": {
           "color": "#333",
           "width": 1
          },
          "opacity": 0.5,
          "size": 10
         },
         "mode": "markers",
         "name": "",
         "showlegend": false,
         "type": "scatter",
         "x": [
          2020
         ],
         "y": [
          11468
         ]
        },
        {
         "marker": {
          "line": {
           "color": "#333",
           "width": 1
          },
          "opacity": 0.5,
          "size": 10
         },
         "mode": "markers",
         "name": "Computer Science or Engineering",
         "showlegend": false,
         "type": "scatter",
         "x": [
          2016,
          2018,
          2018,
          2018,
          2018,
          2019,
          2020,
          2020,
          2020,
          2020,
          2021,
          2021,
          2021,
          2022,
          2022
         ],
         "y": [
          31640,
          33007,
          33265,
          33040,
          33176,
          34200,
          37929,
          39650,
          39200,
          39745,
          39628,
          42750,
          40600,
          40144,
          40495
         ]
        },
        {
         "marker": {
          "line": {
           "color": "#333",
           "width": 1
          },
          "opacity": 0.5,
          "size": 10
         },
         "mode": "markers",
         "name": "Population Health ",
         "showlegend": false,
         "type": "scatter",
         "x": [
          2022,
          2022
         ],
         "y": [
          33000,
          33000
         ]
        },
        {
         "marker": {
          "line": {
           "color": "#333",
           "width": 1
          },
          "opacity": 0.5,
          "size": 10
         },
         "mode": "markers",
         "name": "College Of Engineering",
         "showlegend": false,
         "type": "scatter",
         "x": [
          2022
         ],
         "y": [
          35300
         ]
        },
        {
         "marker": {
          "line": {
           "color": "#333",
           "width": 1
          },
          "opacity": 0.5,
          "size": 10
         },
         "mode": "markers",
         "name": "Chemistry / Chemical Engineering",
         "showlegend": false,
         "type": "scatter",
         "x": [
          2020
         ],
         "y": [
          34800
         ]
        },
        {
         "marker": {
          "line": {
           "color": "#333",
           "width": 1
          },
          "opacity": 0.5,
          "size": 10
         },
         "mode": "markers",
         "name": "Biology",
         "showlegend": false,
         "type": "scatter",
         "x": [
          2013,
          2016
         ],
         "y": [
          30900,
          31500
         ]
        },
        {
         "marker": {
          "line": {
           "color": "#333",
           "width": 1
          },
          "opacity": 0.5,
          "size": 10
         },
         "mode": "markers",
         "name": "Physics",
         "showlegend": false,
         "type": "scatter",
         "x": [
          2016,
          2018,
          2020
         ],
         "y": [
          23190,
          39150,
          35750
         ]
        },
        {
         "marker": {
          "line": {
           "color": "#333",
           "width": 1
          },
          "opacity": 0.5,
          "size": 10
         },
         "mode": "markers",
         "name": "Psychology",
         "showlegend": false,
         "type": "scatter",
         "x": [
          2014,
          2015,
          2020,
          2020,
          2021,
          2022,
          2022
         ],
         "y": [
          16000,
          24000,
          37940,
          55000,
          39150,
          33000,
          40323
         ]
        },
        {
         "marker": {
          "line": {
           "color": "#333",
           "width": 1
          },
          "opacity": 0.5,
          "size": 10
         },
         "mode": "markers",
         "name": "Mathematics",
         "showlegend": false,
         "type": "scatter",
         "x": [
          2022
         ],
         "y": [
          26875
         ]
        },
        {
         "marker": {
          "line": {
           "color": "#333",
           "width": 1
          },
          "opacity": 0.5,
          "size": 10
         },
         "mode": "markers",
         "name": "Bioengineering ",
         "showlegend": false,
         "type": "scatter",
         "x": [
          2016
         ],
         "y": [
          29750
         ]
        },
        {
         "marker": {
          "line": {
           "color": "#333",
           "width": 1
          },
          "opacity": 0.5,
          "size": 10
         },
         "mode": "markers",
         "name": "Sociology",
         "showlegend": false,
         "type": "scatter",
         "x": [
          2016,
          2018,
          2018,
          2018,
          2019,
          2020,
          2022
         ],
         "y": [
          25750,
          24050,
          25500,
          22200,
          33750,
          23145,
          39000
         ]
        },
        {
         "marker": {
          "line": {
           "color": "#333",
           "width": 1
          },
          "opacity": 0.5,
          "size": 10
         },
         "mode": "markers",
         "name": "Mechanical Engineering",
         "showlegend": false,
         "type": "scatter",
         "x": [
          2022,
          2022
         ],
         "y": [
          40240,
          39000
         ]
        },
        {
         "marker": {
          "line": {
           "color": "#333",
           "width": 1
          },
          "opacity": 0.5,
          "size": 10
         },
         "mode": "markers",
         "name": "Bioengineering",
         "showlegend": false,
         "type": "scatter",
         "x": [
          2017,
          2019,
          2020
         ],
         "y": [
          32015,
          32800,
          33700
         ]
        },
        {
         "marker": {
          "line": {
           "color": "#333",
           "width": 1
          },
          "opacity": 0.5,
          "size": 10
         },
         "mode": "markers",
         "name": "Econ",
         "showlegend": false,
         "type": "scatter",
         "x": [
          2018
         ],
         "y": [
          22100
         ]
        },
        {
         "marker": {
          "line": {
           "color": "#333",
           "width": 1
          },
          "opacity": 0.5,
          "size": 10
         },
         "mode": "markers",
         "name": "Political Science",
         "showlegend": false,
         "type": "scatter",
         "x": [
          2017,
          2020,
          2020,
          2021
         ],
         "y": [
          21500,
          34250,
          23500,
          34250
         ]
        },
        {
         "marker": {
          "line": {
           "color": "#333",
           "width": 1
          },
          "opacity": 0.5,
          "size": 10
         },
         "mode": "markers",
         "name": "Pharmacology",
         "showlegend": false,
         "type": "scatter",
         "x": [
          2018
         ],
         "y": [
          32500
         ]
        },
        {
         "marker": {
          "line": {
           "color": "#333",
           "width": 1
          },
          "opacity": 0.5,
          "size": 10
         },
         "mode": "markers",
         "name": "English",
         "showlegend": false,
         "type": "scatter",
         "x": [
          2016,
          2018,
          2018,
          2019,
          2020
         ],
         "y": [
          20000,
          20680,
          21300,
          21250,
          35800
         ]
        },
        {
         "marker": {
          "line": {
           "color": "#333",
           "width": 1
          },
          "opacity": 0.5,
          "size": 10
         },
         "mode": "markers",
         "name": "History",
         "showlegend": false,
         "type": "scatter",
         "x": [
          2016,
          2016,
          2018
         ],
         "y": [
          2500,
          33744,
          29100
         ]
        },
        {
         "marker": {
          "line": {
           "color": "#333",
           "width": 1
          },
          "opacity": 0.5,
          "size": 10
         },
         "mode": "markers",
         "name": "Economics",
         "showlegend": false,
         "type": "scatter",
         "x": [
          2017
         ],
         "y": [
          22000
         ]
        },
        {
         "marker": {
          "line": {
           "color": "#333",
           "width": 1
          },
          "opacity": 0.5,
          "size": 10
         },
         "mode": "markers",
         "name": "Marine and Environmental Sciences",
         "showlegend": false,
         "type": "scatter",
         "x": [
          2020,
          2021,
          2021
         ],
         "y": [
          35220,
          37400,
          35906
         ]
        },
        {
         "line": {
          "color": "firebrick",
          "dash": "dot",
          "width": 2
         },
         "mode": "lines",
         "name": "Living Wage (No Dependents, Pre-Tax)",
         "type": "scatter",
         "x": [
          2014,
          2015,
          2016,
          2017,
          2018,
          2019,
          2020,
          2021,
          2022
         ],
         "y": [
          null,
          27660,
          26411,
          27078,
          29345,
          30577,
          34824,
          39879,
          46918
         ]
        },
        {
         "line": {
          "color": "firebrick",
          "width": 2
         },
         "mode": "lines",
         "name": "Living Wage (No Dependents, After Taxes )",
         "type": "scatter",
         "x": [
          2014,
          2015,
          2016,
          2017,
          2018,
          2019,
          2020,
          2021,
          2022
         ],
         "y": [
          null,
          23698,
          23375,
          23807,
          25753,
          26834,
          30560,
          34315,
          38027
         ]
        },
        {
         "line": {
          "color": "salmon",
          "dash": "dot",
          "width": 2
         },
         "mode": "lines",
         "name": "Living Wage (1 Child, Pre-Tax)",
         "type": "scatter",
         "x": [
          2014,
          2015,
          2016,
          2017,
          2018,
          2019,
          2020,
          2021,
          2022
         ],
         "y": [
          null,
          56706,
          55409,
          56812,
          62724,
          63710,
          70298,
          81282,
          93854
         ]
        },
        {
         "line": {
          "color": "salmon",
          "width": 2
         },
         "mode": "lines",
         "name": "Living Wage (1 Child, After Taxes )",
         "type": "scatter",
         "x": [
          2014,
          2015,
          2016,
          2017,
          2018,
          2019,
          2020,
          2021,
          2022
         ],
         "y": [
          null,
          48583,
          49038,
          49949,
          55045,
          55910,
          61692,
          69943,
          76069
         ]
        },
        {
         "line": {
          "color": "lightblue",
          "width": 2
         },
         "mode": "lines",
         "name": "Housing (1 Adult)",
         "type": "scatter",
         "x": [
          2014,
          2015,
          2016,
          2017,
          2018,
          2019,
          2020,
          2021,
          2022
         ],
         "y": [
          null,
          11661,
          11661,
          11939,
          13333,
          14019,
          17352,
          18466,
          18675
         ]
        },
        {
         "line": {
          "color": "lightblue",
          "dash": "dot",
          "width": 2
         },
         "mode": "lines",
         "name": "Housing (1 Adult 1 Child)",
         "type": "scatter",
         "x": [
          2014,
          2015,
          2016,
          2017,
          2018,
          2019,
          2020,
          2021,
          2022
         ],
         "y": [
          null,
          16368,
          16368,
          17617,
          18839,
          19491,
          23846,
          25112,
          25408
         ]
        },
        {
         "line": {
          "color": "lightblue",
          "dash": "dash",
          "width": 2
         },
         "mode": "lines",
         "name": "Housing (2 Adults)",
         "type": "scatter",
         "x": [
          2014,
          2015,
          2016,
          2017,
          2018,
          2019,
          2020,
          2021,
          2022
         ],
         "y": [
          null,
          13013,
          13013,
          14088,
          15195,
          15789,
          19392,
          20425,
          20688
         ]
        }
       ],
       "layout": {
        "annotations": [
         {
          "align": "left",
          "font": {
           "color": "gray",
           "size": 10
          },
          "showarrow": false,
          "text": "Stipend source: <a href='https://www.phdstipends.com/'>https://www.phdstipends.com/</a><br>Living Wage source: <a href='https://livingwage.mit.edu/metros/14460'>https://livingwage.mit.edu/metros/14460</a><br>Historical data from the Internet Archive: <a href='https://web.archive.org/web/changes/https://livingwage.mit.edu/metros/14460'>https://web.archive.org/web/changes/https://livingwage.mit.edu/metros/14460</a>",
          "x": -0.1,
          "xref": "paper",
          "y": -0.2,
          "yref": "paper"
         }
        ],
        "template": {
         "data": {
          "bar": [
           {
            "error_x": {
             "color": "#2a3f5f"
            },
            "error_y": {
             "color": "#2a3f5f"
            },
            "marker": {
             "line": {
              "color": "white",
              "width": 0.5
             },
             "pattern": {
              "fillmode": "overlay",
              "size": 10,
              "solidity": 0.2
             }
            },
            "type": "bar"
           }
          ],
          "barpolar": [
           {
            "marker": {
             "line": {
              "color": "white",
              "width": 0.5
             },
             "pattern": {
              "fillmode": "overlay",
              "size": 10,
              "solidity": 0.2
             }
            },
            "type": "barpolar"
           }
          ],
          "carpet": [
           {
            "aaxis": {
             "endlinecolor": "#2a3f5f",
             "gridcolor": "#C8D4E3",
             "linecolor": "#C8D4E3",
             "minorgridcolor": "#C8D4E3",
             "startlinecolor": "#2a3f5f"
            },
            "baxis": {
             "endlinecolor": "#2a3f5f",
             "gridcolor": "#C8D4E3",
             "linecolor": "#C8D4E3",
             "minorgridcolor": "#C8D4E3",
             "startlinecolor": "#2a3f5f"
            },
            "type": "carpet"
           }
          ],
          "choropleth": [
           {
            "colorbar": {
             "outlinewidth": 0,
             "ticks": ""
            },
            "type": "choropleth"
           }
          ],
          "contour": [
           {
            "colorbar": {
             "outlinewidth": 0,
             "ticks": ""
            },
            "colorscale": [
             [
              0,
              "#0d0887"
             ],
             [
              0.1111111111111111,
              "#46039f"
             ],
             [
              0.2222222222222222,
              "#7201a8"
             ],
             [
              0.3333333333333333,
              "#9c179e"
             ],
             [
              0.4444444444444444,
              "#bd3786"
             ],
             [
              0.5555555555555556,
              "#d8576b"
             ],
             [
              0.6666666666666666,
              "#ed7953"
             ],
             [
              0.7777777777777778,
              "#fb9f3a"
             ],
             [
              0.8888888888888888,
              "#fdca26"
             ],
             [
              1,
              "#f0f921"
             ]
            ],
            "type": "contour"
           }
          ],
          "contourcarpet": [
           {
            "colorbar": {
             "outlinewidth": 0,
             "ticks": ""
            },
            "type": "contourcarpet"
           }
          ],
          "heatmap": [
           {
            "colorbar": {
             "outlinewidth": 0,
             "ticks": ""
            },
            "colorscale": [
             [
              0,
              "#0d0887"
             ],
             [
              0.1111111111111111,
              "#46039f"
             ],
             [
              0.2222222222222222,
              "#7201a8"
             ],
             [
              0.3333333333333333,
              "#9c179e"
             ],
             [
              0.4444444444444444,
              "#bd3786"
             ],
             [
              0.5555555555555556,
              "#d8576b"
             ],
             [
              0.6666666666666666,
              "#ed7953"
             ],
             [
              0.7777777777777778,
              "#fb9f3a"
             ],
             [
              0.8888888888888888,
              "#fdca26"
             ],
             [
              1,
              "#f0f921"
             ]
            ],
            "type": "heatmap"
           }
          ],
          "heatmapgl": [
           {
            "colorbar": {
             "outlinewidth": 0,
             "ticks": ""
            },
            "colorscale": [
             [
              0,
              "#0d0887"
             ],
             [
              0.1111111111111111,
              "#46039f"
             ],
             [
              0.2222222222222222,
              "#7201a8"
             ],
             [
              0.3333333333333333,
              "#9c179e"
             ],
             [
              0.4444444444444444,
              "#bd3786"
             ],
             [
              0.5555555555555556,
              "#d8576b"
             ],
             [
              0.6666666666666666,
              "#ed7953"
             ],
             [
              0.7777777777777778,
              "#fb9f3a"
             ],
             [
              0.8888888888888888,
              "#fdca26"
             ],
             [
              1,
              "#f0f921"
             ]
            ],
            "type": "heatmapgl"
           }
          ],
          "histogram": [
           {
            "marker": {
             "pattern": {
              "fillmode": "overlay",
              "size": 10,
              "solidity": 0.2
             }
            },
            "type": "histogram"
           }
          ],
          "histogram2d": [
           {
            "colorbar": {
             "outlinewidth": 0,
             "ticks": ""
            },
            "colorscale": [
             [
              0,
              "#0d0887"
             ],
             [
              0.1111111111111111,
              "#46039f"
             ],
             [
              0.2222222222222222,
              "#7201a8"
             ],
             [
              0.3333333333333333,
              "#9c179e"
             ],
             [
              0.4444444444444444,
              "#bd3786"
             ],
             [
              0.5555555555555556,
              "#d8576b"
             ],
             [
              0.6666666666666666,
              "#ed7953"
             ],
             [
              0.7777777777777778,
              "#fb9f3a"
             ],
             [
              0.8888888888888888,
              "#fdca26"
             ],
             [
              1,
              "#f0f921"
             ]
            ],
            "type": "histogram2d"
           }
          ],
          "histogram2dcontour": [
           {
            "colorbar": {
             "outlinewidth": 0,
             "ticks": ""
            },
            "colorscale": [
             [
              0,
              "#0d0887"
             ],
             [
              0.1111111111111111,
              "#46039f"
             ],
             [
              0.2222222222222222,
              "#7201a8"
             ],
             [
              0.3333333333333333,
              "#9c179e"
             ],
             [
              0.4444444444444444,
              "#bd3786"
             ],
             [
              0.5555555555555556,
              "#d8576b"
             ],
             [
              0.6666666666666666,
              "#ed7953"
             ],
             [
              0.7777777777777778,
              "#fb9f3a"
             ],
             [
              0.8888888888888888,
              "#fdca26"
             ],
             [
              1,
              "#f0f921"
             ]
            ],
            "type": "histogram2dcontour"
           }
          ],
          "mesh3d": [
           {
            "colorbar": {
             "outlinewidth": 0,
             "ticks": ""
            },
            "type": "mesh3d"
           }
          ],
          "parcoords": [
           {
            "line": {
             "colorbar": {
              "outlinewidth": 0,
              "ticks": ""
             }
            },
            "type": "parcoords"
           }
          ],
          "pie": [
           {
            "automargin": true,
            "type": "pie"
           }
          ],
          "scatter": [
           {
            "marker": {
             "colorbar": {
              "outlinewidth": 0,
              "ticks": ""
             }
            },
            "type": "scatter"
           }
          ],
          "scatter3d": [
           {
            "line": {
             "colorbar": {
              "outlinewidth": 0,
              "ticks": ""
             }
            },
            "marker": {
             "colorbar": {
              "outlinewidth": 0,
              "ticks": ""
             }
            },
            "type": "scatter3d"
           }
          ],
          "scattercarpet": [
           {
            "marker": {
             "colorbar": {
              "outlinewidth": 0,
              "ticks": ""
             }
            },
            "type": "scattercarpet"
           }
          ],
          "scattergeo": [
           {
            "marker": {
             "colorbar": {
              "outlinewidth": 0,
              "ticks": ""
             }
            },
            "type": "scattergeo"
           }
          ],
          "scattergl": [
           {
            "marker": {
             "colorbar": {
              "outlinewidth": 0,
              "ticks": ""
             }
            },
            "type": "scattergl"
           }
          ],
          "scattermapbox": [
           {
            "marker": {
             "colorbar": {
              "outlinewidth": 0,
              "ticks": ""
             }
            },
            "type": "scattermapbox"
           }
          ],
          "scatterpolar": [
           {
            "marker": {
             "colorbar": {
              "outlinewidth": 0,
              "ticks": ""
             }
            },
            "type": "scatterpolar"
           }
          ],
          "scatterpolargl": [
           {
            "marker": {
             "colorbar": {
              "outlinewidth": 0,
              "ticks": ""
             }
            },
            "type": "scatterpolargl"
           }
          ],
          "scatterternary": [
           {
            "marker": {
             "colorbar": {
              "outlinewidth": 0,
              "ticks": ""
             }
            },
            "type": "scatterternary"
           }
          ],
          "surface": [
           {
            "colorbar": {
             "outlinewidth": 0,
             "ticks": ""
            },
            "colorscale": [
             [
              0,
              "#0d0887"
             ],
             [
              0.1111111111111111,
              "#46039f"
             ],
             [
              0.2222222222222222,
              "#7201a8"
             ],
             [
              0.3333333333333333,
              "#9c179e"
             ],
             [
              0.4444444444444444,
              "#bd3786"
             ],
             [
              0.5555555555555556,
              "#d8576b"
             ],
             [
              0.6666666666666666,
              "#ed7953"
             ],
             [
              0.7777777777777778,
              "#fb9f3a"
             ],
             [
              0.8888888888888888,
              "#fdca26"
             ],
             [
              1,
              "#f0f921"
             ]
            ],
            "type": "surface"
           }
          ],
          "table": [
           {
            "cells": {
             "fill": {
              "color": "#EBF0F8"
             },
             "line": {
              "color": "white"
             }
            },
            "header": {
             "fill": {
              "color": "#C8D4E3"
             },
             "line": {
              "color": "white"
             }
            },
            "type": "table"
           }
          ]
         },
         "layout": {
          "annotationdefaults": {
           "arrowcolor": "#2a3f5f",
           "arrowhead": 0,
           "arrowwidth": 1
          },
          "autotypenumbers": "strict",
          "coloraxis": {
           "colorbar": {
            "outlinewidth": 0,
            "ticks": ""
           }
          },
          "colorscale": {
           "diverging": [
            [
             0,
             "#8e0152"
            ],
            [
             0.1,
             "#c51b7d"
            ],
            [
             0.2,
             "#de77ae"
            ],
            [
             0.3,
             "#f1b6da"
            ],
            [
             0.4,
             "#fde0ef"
            ],
            [
             0.5,
             "#f7f7f7"
            ],
            [
             0.6,
             "#e6f5d0"
            ],
            [
             0.7,
             "#b8e186"
            ],
            [
             0.8,
             "#7fbc41"
            ],
            [
             0.9,
             "#4d9221"
            ],
            [
             1,
             "#276419"
            ]
           ],
           "sequential": [
            [
             0,
             "#0d0887"
            ],
            [
             0.1111111111111111,
             "#46039f"
            ],
            [
             0.2222222222222222,
             "#7201a8"
            ],
            [
             0.3333333333333333,
             "#9c179e"
            ],
            [
             0.4444444444444444,
             "#bd3786"
            ],
            [
             0.5555555555555556,
             "#d8576b"
            ],
            [
             0.6666666666666666,
             "#ed7953"
            ],
            [
             0.7777777777777778,
             "#fb9f3a"
            ],
            [
             0.8888888888888888,
             "#fdca26"
            ],
            [
             1,
             "#f0f921"
            ]
           ],
           "sequentialminus": [
            [
             0,
             "#0d0887"
            ],
            [
             0.1111111111111111,
             "#46039f"
            ],
            [
             0.2222222222222222,
             "#7201a8"
            ],
            [
             0.3333333333333333,
             "#9c179e"
            ],
            [
             0.4444444444444444,
             "#bd3786"
            ],
            [
             0.5555555555555556,
             "#d8576b"
            ],
            [
             0.6666666666666666,
             "#ed7953"
            ],
            [
             0.7777777777777778,
             "#fb9f3a"
            ],
            [
             0.8888888888888888,
             "#fdca26"
            ],
            [
             1,
             "#f0f921"
            ]
           ]
          },
          "colorway": [
           "#636efa",
           "#EF553B",
           "#00cc96",
           "#ab63fa",
           "#FFA15A",
           "#19d3f3",
           "#FF6692",
           "#B6E880",
           "#FF97FF",
           "#FECB52"
          ],
          "font": {
           "color": "#2a3f5f"
          },
          "geo": {
           "bgcolor": "white",
           "lakecolor": "white",
           "landcolor": "white",
           "showlakes": true,
           "showland": true,
           "subunitcolor": "#C8D4E3"
          },
          "hoverlabel": {
           "align": "left"
          },
          "hovermode": "closest",
          "mapbox": {
           "style": "light"
          },
          "paper_bgcolor": "white",
          "plot_bgcolor": "white",
          "polar": {
           "angularaxis": {
            "gridcolor": "#EBF0F8",
            "linecolor": "#EBF0F8",
            "ticks": ""
           },
           "bgcolor": "white",
           "radialaxis": {
            "gridcolor": "#EBF0F8",
            "linecolor": "#EBF0F8",
            "ticks": ""
           }
          },
          "scene": {
           "xaxis": {
            "backgroundcolor": "white",
            "gridcolor": "#DFE8F3",
            "gridwidth": 2,
            "linecolor": "#EBF0F8",
            "showbackground": true,
            "ticks": "",
            "zerolinecolor": "#EBF0F8"
           },
           "yaxis": {
            "backgroundcolor": "white",
            "gridcolor": "#DFE8F3",
            "gridwidth": 2,
            "linecolor": "#EBF0F8",
            "showbackground": true,
            "ticks": "",
            "zerolinecolor": "#EBF0F8"
           },
           "zaxis": {
            "backgroundcolor": "white",
            "gridcolor": "#DFE8F3",
            "gridwidth": 2,
            "linecolor": "#EBF0F8",
            "showbackground": true,
            "ticks": "",
            "zerolinecolor": "#EBF0F8"
           }
          },
          "shapedefaults": {
           "line": {
            "color": "#2a3f5f"
           }
          },
          "ternary": {
           "aaxis": {
            "gridcolor": "#DFE8F3",
            "linecolor": "#A2B1C6",
            "ticks": ""
           },
           "baxis": {
            "gridcolor": "#DFE8F3",
            "linecolor": "#A2B1C6",
            "ticks": ""
           },
           "bgcolor": "white",
           "caxis": {
            "gridcolor": "#DFE8F3",
            "linecolor": "#A2B1C6",
            "ticks": ""
           }
          },
          "title": {
           "x": 0.05
          },
          "xaxis": {
           "automargin": true,
           "gridcolor": "#EBF0F8",
           "linecolor": "#EBF0F8",
           "ticks": "",
           "title": {
            "standoff": 15
           },
           "zerolinecolor": "#EBF0F8",
           "zerolinewidth": 2
          },
          "yaxis": {
           "automargin": true,
           "gridcolor": "#EBF0F8",
           "linecolor": "#EBF0F8",
           "ticks": "",
           "title": {
            "standoff": 15
           },
           "zerolinecolor": "#EBF0F8",
           "zerolinewidth": 2
          }
         }
        },
        "title": {
         "text": "Graduate Stipends at Northeastern University"
        }
       }
      },
      "text/html": [
       "<div>                            <div id=\"62280037-7380-4d2f-8a82-28455aa6e89a\" class=\"plotly-graph-div\" style=\"height:525px; width:100%;\"></div>            <script type=\"text/javascript\">                require([\"plotly\"], function(Plotly) {                    window.PLOTLYENV=window.PLOTLYENV || {};                                    if (document.getElementById(\"62280037-7380-4d2f-8a82-28455aa6e89a\")) {                    Plotly.newPlot(                        \"62280037-7380-4d2f-8a82-28455aa6e89a\",                        [{\"marker\":{\"line\":{\"color\":\"#333\",\"width\":1},\"opacity\":0.5,\"size\":10},\"mode\":\"markers\",\"name\":\"\",\"showlegend\":false,\"x\":[2020.0],\"y\":[11468.0],\"type\":\"scatter\"},{\"marker\":{\"line\":{\"color\":\"#333\",\"width\":1},\"opacity\":0.5,\"size\":10},\"mode\":\"markers\",\"name\":\"Computer Science or Engineering\",\"showlegend\":false,\"x\":[2016.0,2018.0,2018.0,2018.0,2018.0,2019.0,2020.0,2020.0,2020.0,2020.0,2021.0,2021.0,2021.0,2022.0,2022.0],\"y\":[31640.0,33007.0,33265.0,33040.0,33176.0,34200.0,37929.0,39650.0,39200.0,39745.0,39628.0,42750.0,40600.0,40144.0,40495.0],\"type\":\"scatter\"},{\"marker\":{\"line\":{\"color\":\"#333\",\"width\":1},\"opacity\":0.5,\"size\":10},\"mode\":\"markers\",\"name\":\"Population Health \",\"showlegend\":false,\"x\":[2022.0,2022.0],\"y\":[33000.0,33000.0],\"type\":\"scatter\"},{\"marker\":{\"line\":{\"color\":\"#333\",\"width\":1},\"opacity\":0.5,\"size\":10},\"mode\":\"markers\",\"name\":\"College Of Engineering\",\"showlegend\":false,\"x\":[2022.0],\"y\":[35300.0],\"type\":\"scatter\"},{\"marker\":{\"line\":{\"color\":\"#333\",\"width\":1},\"opacity\":0.5,\"size\":10},\"mode\":\"markers\",\"name\":\"Chemistry / Chemical Engineering\",\"showlegend\":false,\"x\":[2020.0],\"y\":[34800.0],\"type\":\"scatter\"},{\"marker\":{\"line\":{\"color\":\"#333\",\"width\":1},\"opacity\":0.5,\"size\":10},\"mode\":\"markers\",\"name\":\"Biology\",\"showlegend\":false,\"x\":[2013.0,2016.0],\"y\":[30900.0,31500.0],\"type\":\"scatter\"},{\"marker\":{\"line\":{\"color\":\"#333\",\"width\":1},\"opacity\":0.5,\"size\":10},\"mode\":\"markers\",\"name\":\"Physics\",\"showlegend\":false,\"x\":[2016.0,2018.0,2020.0],\"y\":[23190.0,39150.0,35750.0],\"type\":\"scatter\"},{\"marker\":{\"line\":{\"color\":\"#333\",\"width\":1},\"opacity\":0.5,\"size\":10},\"mode\":\"markers\",\"name\":\"Psychology\",\"showlegend\":false,\"x\":[2014.0,2015.0,2020.0,2020.0,2021.0,2022.0,2022.0],\"y\":[16000.0,24000.0,37940.0,55000.0,39150.0,33000.0,40323.0],\"type\":\"scatter\"},{\"marker\":{\"line\":{\"color\":\"#333\",\"width\":1},\"opacity\":0.5,\"size\":10},\"mode\":\"markers\",\"name\":\"Mathematics\",\"showlegend\":false,\"x\":[2022.0],\"y\":[26875.0],\"type\":\"scatter\"},{\"marker\":{\"line\":{\"color\":\"#333\",\"width\":1},\"opacity\":0.5,\"size\":10},\"mode\":\"markers\",\"name\":\"Bioengineering \",\"showlegend\":false,\"x\":[2016.0],\"y\":[29750.0],\"type\":\"scatter\"},{\"marker\":{\"line\":{\"color\":\"#333\",\"width\":1},\"opacity\":0.5,\"size\":10},\"mode\":\"markers\",\"name\":\"Sociology\",\"showlegend\":false,\"x\":[2016.0,2018.0,2018.0,2018.0,2019.0,2020.0,2022.0],\"y\":[25750.0,24050.0,25500.0,22200.0,33750.0,23145.0,39000.0],\"type\":\"scatter\"},{\"marker\":{\"line\":{\"color\":\"#333\",\"width\":1},\"opacity\":0.5,\"size\":10},\"mode\":\"markers\",\"name\":\"Mechanical Engineering\",\"showlegend\":false,\"x\":[2022.0,2022.0],\"y\":[40240.0,39000.0],\"type\":\"scatter\"},{\"marker\":{\"line\":{\"color\":\"#333\",\"width\":1},\"opacity\":0.5,\"size\":10},\"mode\":\"markers\",\"name\":\"Bioengineering\",\"showlegend\":false,\"x\":[2017.0,2019.0,2020.0],\"y\":[32015.0,32800.0,33700.0],\"type\":\"scatter\"},{\"marker\":{\"line\":{\"color\":\"#333\",\"width\":1},\"opacity\":0.5,\"size\":10},\"mode\":\"markers\",\"name\":\"Econ\",\"showlegend\":false,\"x\":[2018.0],\"y\":[22100.0],\"type\":\"scatter\"},{\"marker\":{\"line\":{\"color\":\"#333\",\"width\":1},\"opacity\":0.5,\"size\":10},\"mode\":\"markers\",\"name\":\"Political Science\",\"showlegend\":false,\"x\":[2017.0,2020.0,2020.0,2021.0],\"y\":[21500.0,34250.0,23500.0,34250.0],\"type\":\"scatter\"},{\"marker\":{\"line\":{\"color\":\"#333\",\"width\":1},\"opacity\":0.5,\"size\":10},\"mode\":\"markers\",\"name\":\"Pharmacology\",\"showlegend\":false,\"x\":[2018.0],\"y\":[32500.0],\"type\":\"scatter\"},{\"marker\":{\"line\":{\"color\":\"#333\",\"width\":1},\"opacity\":0.5,\"size\":10},\"mode\":\"markers\",\"name\":\"English\",\"showlegend\":false,\"x\":[2016.0,2018.0,2018.0,2019.0,2020.0],\"y\":[20000.0,20680.0,21300.0,21250.0,35800.0],\"type\":\"scatter\"},{\"marker\":{\"line\":{\"color\":\"#333\",\"width\":1},\"opacity\":0.5,\"size\":10},\"mode\":\"markers\",\"name\":\"History\",\"showlegend\":false,\"x\":[2016.0,2016.0,2018.0],\"y\":[2500.0,33744.0,29100.0],\"type\":\"scatter\"},{\"marker\":{\"line\":{\"color\":\"#333\",\"width\":1},\"opacity\":0.5,\"size\":10},\"mode\":\"markers\",\"name\":\"Economics\",\"showlegend\":false,\"x\":[2017.0],\"y\":[22000.0],\"type\":\"scatter\"},{\"marker\":{\"line\":{\"color\":\"#333\",\"width\":1},\"opacity\":0.5,\"size\":10},\"mode\":\"markers\",\"name\":\"Marine and Environmental Sciences\",\"showlegend\":false,\"x\":[2020.0,2021.0,2021.0],\"y\":[35220.0,37400.0,35906.0],\"type\":\"scatter\"},{\"line\":{\"color\":\"firebrick\",\"dash\":\"dot\",\"width\":2},\"mode\":\"lines\",\"name\":\"Living Wage (No Dependents, Pre-Tax)\",\"x\":[2014,2015,2016,2017,2018,2019,2020,2021,2022],\"y\":[null,27660.0,26411.0,27078.0,29345.0,30577.0,34824.0,39879.0,46918.0],\"type\":\"scatter\"},{\"line\":{\"color\":\"firebrick\",\"width\":2},\"mode\":\"lines\",\"name\":\"Living Wage (No Dependents, After Taxes )\",\"x\":[2014,2015,2016,2017,2018,2019,2020,2021,2022],\"y\":[null,23698.0,23375.0,23807.0,25753.0,26834.0,30560.0,34315.0,38027.0],\"type\":\"scatter\"},{\"line\":{\"color\":\"salmon\",\"dash\":\"dot\",\"width\":2},\"mode\":\"lines\",\"name\":\"Living Wage (1 Child, Pre-Tax)\",\"x\":[2014,2015,2016,2017,2018,2019,2020,2021,2022],\"y\":[null,56706.0,55409.0,56812.0,62724.0,63710.0,70298.0,81282.0,93854.0],\"type\":\"scatter\"},{\"line\":{\"color\":\"salmon\",\"width\":2},\"mode\":\"lines\",\"name\":\"Living Wage (1 Child, After Taxes )\",\"x\":[2014,2015,2016,2017,2018,2019,2020,2021,2022],\"y\":[null,48583.0,49038.0,49949.0,55045.0,55910.0,61692.0,69943.0,76069.0],\"type\":\"scatter\"},{\"line\":{\"color\":\"lightblue\",\"width\":2},\"mode\":\"lines\",\"name\":\"Housing (1 Adult)\",\"x\":[2014,2015,2016,2017,2018,2019,2020,2021,2022],\"y\":[null,11661.0,11661.0,11939.0,13333.0,14019.0,17352.0,18466.0,18675.0],\"type\":\"scatter\"},{\"line\":{\"color\":\"lightblue\",\"dash\":\"dot\",\"width\":2},\"mode\":\"lines\",\"name\":\"Housing (1 Adult 1 Child)\",\"x\":[2014,2015,2016,2017,2018,2019,2020,2021,2022],\"y\":[null,16368.0,16368.0,17617.0,18839.0,19491.0,23846.0,25112.0,25408.0],\"type\":\"scatter\"},{\"line\":{\"color\":\"lightblue\",\"dash\":\"dash\",\"width\":2},\"mode\":\"lines\",\"name\":\"Housing (2 Adults)\",\"x\":[2014,2015,2016,2017,2018,2019,2020,2021,2022],\"y\":[null,13013.0,13013.0,14088.0,15195.0,15789.0,19392.0,20425.0,20688.0],\"type\":\"scatter\"}],                        {\"template\":{\"data\":{\"barpolar\":[{\"marker\":{\"line\":{\"color\":\"white\",\"width\":0.5},\"pattern\":{\"fillmode\":\"overlay\",\"size\":10,\"solidity\":0.2}},\"type\":\"barpolar\"}],\"bar\":[{\"error_x\":{\"color\":\"#2a3f5f\"},\"error_y\":{\"color\":\"#2a3f5f\"},\"marker\":{\"line\":{\"color\":\"white\",\"width\":0.5},\"pattern\":{\"fillmode\":\"overlay\",\"size\":10,\"solidity\":0.2}},\"type\":\"bar\"}],\"carpet\":[{\"aaxis\":{\"endlinecolor\":\"#2a3f5f\",\"gridcolor\":\"#C8D4E3\",\"linecolor\":\"#C8D4E3\",\"minorgridcolor\":\"#C8D4E3\",\"startlinecolor\":\"#2a3f5f\"},\"baxis\":{\"endlinecolor\":\"#2a3f5f\",\"gridcolor\":\"#C8D4E3\",\"linecolor\":\"#C8D4E3\",\"minorgridcolor\":\"#C8D4E3\",\"startlinecolor\":\"#2a3f5f\"},\"type\":\"carpet\"}],\"choropleth\":[{\"colorbar\":{\"outlinewidth\":0,\"ticks\":\"\"},\"type\":\"choropleth\"}],\"contourcarpet\":[{\"colorbar\":{\"outlinewidth\":0,\"ticks\":\"\"},\"type\":\"contourcarpet\"}],\"contour\":[{\"colorbar\":{\"outlinewidth\":0,\"ticks\":\"\"},\"colorscale\":[[0.0,\"#0d0887\"],[0.1111111111111111,\"#46039f\"],[0.2222222222222222,\"#7201a8\"],[0.3333333333333333,\"#9c179e\"],[0.4444444444444444,\"#bd3786\"],[0.5555555555555556,\"#d8576b\"],[0.6666666666666666,\"#ed7953\"],[0.7777777777777778,\"#fb9f3a\"],[0.8888888888888888,\"#fdca26\"],[1.0,\"#f0f921\"]],\"type\":\"contour\"}],\"heatmapgl\":[{\"colorbar\":{\"outlinewidth\":0,\"ticks\":\"\"},\"colorscale\":[[0.0,\"#0d0887\"],[0.1111111111111111,\"#46039f\"],[0.2222222222222222,\"#7201a8\"],[0.3333333333333333,\"#9c179e\"],[0.4444444444444444,\"#bd3786\"],[0.5555555555555556,\"#d8576b\"],[0.6666666666666666,\"#ed7953\"],[0.7777777777777778,\"#fb9f3a\"],[0.8888888888888888,\"#fdca26\"],[1.0,\"#f0f921\"]],\"type\":\"heatmapgl\"}],\"heatmap\":[{\"colorbar\":{\"outlinewidth\":0,\"ticks\":\"\"},\"colorscale\":[[0.0,\"#0d0887\"],[0.1111111111111111,\"#46039f\"],[0.2222222222222222,\"#7201a8\"],[0.3333333333333333,\"#9c179e\"],[0.4444444444444444,\"#bd3786\"],[0.5555555555555556,\"#d8576b\"],[0.6666666666666666,\"#ed7953\"],[0.7777777777777778,\"#fb9f3a\"],[0.8888888888888888,\"#fdca26\"],[1.0,\"#f0f921\"]],\"type\":\"heatmap\"}],\"histogram2dcontour\":[{\"colorbar\":{\"outlinewidth\":0,\"ticks\":\"\"},\"colorscale\":[[0.0,\"#0d0887\"],[0.1111111111111111,\"#46039f\"],[0.2222222222222222,\"#7201a8\"],[0.3333333333333333,\"#9c179e\"],[0.4444444444444444,\"#bd3786\"],[0.5555555555555556,\"#d8576b\"],[0.6666666666666666,\"#ed7953\"],[0.7777777777777778,\"#fb9f3a\"],[0.8888888888888888,\"#fdca26\"],[1.0,\"#f0f921\"]],\"type\":\"histogram2dcontour\"}],\"histogram2d\":[{\"colorbar\":{\"outlinewidth\":0,\"ticks\":\"\"},\"colorscale\":[[0.0,\"#0d0887\"],[0.1111111111111111,\"#46039f\"],[0.2222222222222222,\"#7201a8\"],[0.3333333333333333,\"#9c179e\"],[0.4444444444444444,\"#bd3786\"],[0.5555555555555556,\"#d8576b\"],[0.6666666666666666,\"#ed7953\"],[0.7777777777777778,\"#fb9f3a\"],[0.8888888888888888,\"#fdca26\"],[1.0,\"#f0f921\"]],\"type\":\"histogram2d\"}],\"histogram\":[{\"marker\":{\"pattern\":{\"fillmode\":\"overlay\",\"size\":10,\"solidity\":0.2}},\"type\":\"histogram\"}],\"mesh3d\":[{\"colorbar\":{\"outlinewidth\":0,\"ticks\":\"\"},\"type\":\"mesh3d\"}],\"parcoords\":[{\"line\":{\"colorbar\":{\"outlinewidth\":0,\"ticks\":\"\"}},\"type\":\"parcoords\"}],\"pie\":[{\"automargin\":true,\"type\":\"pie\"}],\"scatter3d\":[{\"line\":{\"colorbar\":{\"outlinewidth\":0,\"ticks\":\"\"}},\"marker\":{\"colorbar\":{\"outlinewidth\":0,\"ticks\":\"\"}},\"type\":\"scatter3d\"}],\"scattercarpet\":[{\"marker\":{\"colorbar\":{\"outlinewidth\":0,\"ticks\":\"\"}},\"type\":\"scattercarpet\"}],\"scattergeo\":[{\"marker\":{\"colorbar\":{\"outlinewidth\":0,\"ticks\":\"\"}},\"type\":\"scattergeo\"}],\"scattergl\":[{\"marker\":{\"colorbar\":{\"outlinewidth\":0,\"ticks\":\"\"}},\"type\":\"scattergl\"}],\"scattermapbox\":[{\"marker\":{\"colorbar\":{\"outlinewidth\":0,\"ticks\":\"\"}},\"type\":\"scattermapbox\"}],\"scatterpolargl\":[{\"marker\":{\"colorbar\":{\"outlinewidth\":0,\"ticks\":\"\"}},\"type\":\"scatterpolargl\"}],\"scatterpolar\":[{\"marker\":{\"colorbar\":{\"outlinewidth\":0,\"ticks\":\"\"}},\"type\":\"scatterpolar\"}],\"scatter\":[{\"marker\":{\"colorbar\":{\"outlinewidth\":0,\"ticks\":\"\"}},\"type\":\"scatter\"}],\"scatterternary\":[{\"marker\":{\"colorbar\":{\"outlinewidth\":0,\"ticks\":\"\"}},\"type\":\"scatterternary\"}],\"surface\":[{\"colorbar\":{\"outlinewidth\":0,\"ticks\":\"\"},\"colorscale\":[[0.0,\"#0d0887\"],[0.1111111111111111,\"#46039f\"],[0.2222222222222222,\"#7201a8\"],[0.3333333333333333,\"#9c179e\"],[0.4444444444444444,\"#bd3786\"],[0.5555555555555556,\"#d8576b\"],[0.6666666666666666,\"#ed7953\"],[0.7777777777777778,\"#fb9f3a\"],[0.8888888888888888,\"#fdca26\"],[1.0,\"#f0f921\"]],\"type\":\"surface\"}],\"table\":[{\"cells\":{\"fill\":{\"color\":\"#EBF0F8\"},\"line\":{\"color\":\"white\"}},\"header\":{\"fill\":{\"color\":\"#C8D4E3\"},\"line\":{\"color\":\"white\"}},\"type\":\"table\"}]},\"layout\":{\"annotationdefaults\":{\"arrowcolor\":\"#2a3f5f\",\"arrowhead\":0,\"arrowwidth\":1},\"autotypenumbers\":\"strict\",\"coloraxis\":{\"colorbar\":{\"outlinewidth\":0,\"ticks\":\"\"}},\"colorscale\":{\"diverging\":[[0,\"#8e0152\"],[0.1,\"#c51b7d\"],[0.2,\"#de77ae\"],[0.3,\"#f1b6da\"],[0.4,\"#fde0ef\"],[0.5,\"#f7f7f7\"],[0.6,\"#e6f5d0\"],[0.7,\"#b8e186\"],[0.8,\"#7fbc41\"],[0.9,\"#4d9221\"],[1,\"#276419\"]],\"sequential\":[[0.0,\"#0d0887\"],[0.1111111111111111,\"#46039f\"],[0.2222222222222222,\"#7201a8\"],[0.3333333333333333,\"#9c179e\"],[0.4444444444444444,\"#bd3786\"],[0.5555555555555556,\"#d8576b\"],[0.6666666666666666,\"#ed7953\"],[0.7777777777777778,\"#fb9f3a\"],[0.8888888888888888,\"#fdca26\"],[1.0,\"#f0f921\"]],\"sequentialminus\":[[0.0,\"#0d0887\"],[0.1111111111111111,\"#46039f\"],[0.2222222222222222,\"#7201a8\"],[0.3333333333333333,\"#9c179e\"],[0.4444444444444444,\"#bd3786\"],[0.5555555555555556,\"#d8576b\"],[0.6666666666666666,\"#ed7953\"],[0.7777777777777778,\"#fb9f3a\"],[0.8888888888888888,\"#fdca26\"],[1.0,\"#f0f921\"]]},\"colorway\":[\"#636efa\",\"#EF553B\",\"#00cc96\",\"#ab63fa\",\"#FFA15A\",\"#19d3f3\",\"#FF6692\",\"#B6E880\",\"#FF97FF\",\"#FECB52\"],\"font\":{\"color\":\"#2a3f5f\"},\"geo\":{\"bgcolor\":\"white\",\"lakecolor\":\"white\",\"landcolor\":\"white\",\"showlakes\":true,\"showland\":true,\"subunitcolor\":\"#C8D4E3\"},\"hoverlabel\":{\"align\":\"left\"},\"hovermode\":\"closest\",\"mapbox\":{\"style\":\"light\"},\"paper_bgcolor\":\"white\",\"plot_bgcolor\":\"white\",\"polar\":{\"angularaxis\":{\"gridcolor\":\"#EBF0F8\",\"linecolor\":\"#EBF0F8\",\"ticks\":\"\"},\"bgcolor\":\"white\",\"radialaxis\":{\"gridcolor\":\"#EBF0F8\",\"linecolor\":\"#EBF0F8\",\"ticks\":\"\"}},\"scene\":{\"xaxis\":{\"backgroundcolor\":\"white\",\"gridcolor\":\"#DFE8F3\",\"gridwidth\":2,\"linecolor\":\"#EBF0F8\",\"showbackground\":true,\"ticks\":\"\",\"zerolinecolor\":\"#EBF0F8\"},\"yaxis\":{\"backgroundcolor\":\"white\",\"gridcolor\":\"#DFE8F3\",\"gridwidth\":2,\"linecolor\":\"#EBF0F8\",\"showbackground\":true,\"ticks\":\"\",\"zerolinecolor\":\"#EBF0F8\"},\"zaxis\":{\"backgroundcolor\":\"white\",\"gridcolor\":\"#DFE8F3\",\"gridwidth\":2,\"linecolor\":\"#EBF0F8\",\"showbackground\":true,\"ticks\":\"\",\"zerolinecolor\":\"#EBF0F8\"}},\"shapedefaults\":{\"line\":{\"color\":\"#2a3f5f\"}},\"ternary\":{\"aaxis\":{\"gridcolor\":\"#DFE8F3\",\"linecolor\":\"#A2B1C6\",\"ticks\":\"\"},\"baxis\":{\"gridcolor\":\"#DFE8F3\",\"linecolor\":\"#A2B1C6\",\"ticks\":\"\"},\"bgcolor\":\"white\",\"caxis\":{\"gridcolor\":\"#DFE8F3\",\"linecolor\":\"#A2B1C6\",\"ticks\":\"\"}},\"title\":{\"x\":0.05},\"xaxis\":{\"automargin\":true,\"gridcolor\":\"#EBF0F8\",\"linecolor\":\"#EBF0F8\",\"ticks\":\"\",\"title\":{\"standoff\":15},\"zerolinecolor\":\"#EBF0F8\",\"zerolinewidth\":2},\"yaxis\":{\"automargin\":true,\"gridcolor\":\"#EBF0F8\",\"linecolor\":\"#EBF0F8\",\"ticks\":\"\",\"title\":{\"standoff\":15},\"zerolinecolor\":\"#EBF0F8\",\"zerolinewidth\":2}}},\"annotations\":[{\"align\":\"left\",\"font\":{\"color\":\"gray\",\"size\":10},\"showarrow\":false,\"text\":\"Stipend source: <a href='https://www.phdstipends.com/'>https://www.phdstipends.com/</a><br>Living Wage source: <a href='https://livingwage.mit.edu/metros/14460'>https://livingwage.mit.edu/metros/14460</a><br>Historical data from the Internet Archive: <a href='https://web.archive.org/web/changes/https://livingwage.mit.edu/metros/14460'>https://web.archive.org/web/changes/https://livingwage.mit.edu/metros/14460</a>\",\"x\":-0.1,\"xref\":\"paper\",\"y\":-0.2,\"yref\":\"paper\"}],\"title\":{\"text\":\"Graduate Stipends at Northeastern University\"}},                        {\"responsive\": true}                    ).then(function(){\n",
       "                            \n",
       "var gd = document.getElementById('62280037-7380-4d2f-8a82-28455aa6e89a');\n",
       "var x = new MutationObserver(function (mutations, observer) {{\n",
       "        var display = window.getComputedStyle(gd).display;\n",
       "        if (!display || display === 'none') {{\n",
       "            console.log([gd, 'removed!']);\n",
       "            Plotly.purge(gd);\n",
       "            observer.disconnect();\n",
       "        }}\n",
       "}});\n",
       "\n",
       "// Listen for the removal of the full notebook cells\n",
       "var notebookContainer = gd.closest('#notebook-container');\n",
       "if (notebookContainer) {{\n",
       "    x.observe(notebookContainer, {childList: true});\n",
       "}}\n",
       "\n",
       "// Listen for the clearing of the current output cell\n",
       "var outputEl = gd.closest('.output');\n",
       "if (outputEl) {{\n",
       "    x.observe(outputEl, {childList: true});\n",
       "}}\n",
       "\n",
       "                        })                };                });            </script>        </div>"
      ]
     },
     "metadata": {},
     "output_type": "display_data"
    }
   ],
   "source": [
    "fig = go.Figure()\n",
    "for department in set(neu['Department']):\n",
    "    dept_df = neu[neu['Department']==department]\n",
    "    fig.add_trace(go.Scatter(\n",
    "        x=dept_df['Academic Year'],\n",
    "        y=dept_df['Overall Pay'],\n",
    "        mode='markers',\n",
    "        name=department,\n",
    "        showlegend = False,\n",
    "        marker=dict(\n",
    "            opacity=0.5,\n",
    "            size=10,\n",
    "            line=dict(\n",
    "                color='#333',\n",
    "                width=1\n",
    "            )\n",
    "        )\n",
    "    ))\n",
    "fig.add_trace(go.Scatter(x=living_wage_df['year'], y=living_wage_df['No child pre-tax'], mode='lines',\n",
    "                         name='Living Wage (No Dependents, Pre-Tax)',\n",
    "                         line = dict(color='firebrick', width=2, dash='dot')\n",
    "                        ))\n",
    "fig.add_trace(go.Scatter(x=living_wage_df['year'], y=living_wage_df['No child post-tax'], mode='lines',\n",
    "                         name='Living Wage (No Dependents, After Taxes )',\n",
    "                         line = dict(color='firebrick', width=2)\n",
    "                        ))\n",
    "fig.add_trace(go.Scatter(x=living_wage_df['year'], y=living_wage_df['1 child pre-tax'], mode='lines',\n",
    "                         name='Living Wage (1 Child, Pre-Tax)',\n",
    "                         line = dict(color='salmon', width=2, dash='dot')\n",
    "                        ))\n",
    "fig.add_trace(go.Scatter(x=living_wage_df['year'], y=living_wage_df['1 child post-tax'], mode='lines',\n",
    "                         name='Living Wage (1 Child, After Taxes )',\n",
    "                         line = dict(color='salmon', width=2)\n",
    "                        ))\n",
    "fig.add_trace(go.Scatter(x=rent_df['year'], y=rent_df['1 Adult'], mode='lines',\n",
    "                         name='Housing (1 Adult)',\n",
    "                         line = dict(color='lightblue', width=2)\n",
    "                        ))\n",
    "fig.add_trace(go.Scatter(x=rent_df['year'], y=rent_df['1 Adult 1 Child'], mode='lines',\n",
    "                         name='Housing (1 Adult 1 Child)',\n",
    "                         line = dict(color='lightblue', width=2, dash='dot')\n",
    "                        ))\n",
    "fig.add_trace(go.Scatter(x=rent_df['year'], y=rent_df['2 Adults'], mode='lines',\n",
    "                         name='Housing (2 Adults)',\n",
    "                         line = dict(color='lightblue', width=2, dash='dash')\n",
    "                        ))\n",
    "fig.add_annotation(x=-0.1, y=-0.2,\n",
    "                   xref='paper', yref='paper',\n",
    "            text=\"Stipend source: <a href='https://www.phdstipends.com/'>https://www.phdstipends.com/</a><br>\\\n",
    "Living Wage source: <a href='https://livingwage.mit.edu/metros/14460'>https://livingwage.mit.edu/metros/14460</a><br>\\\n",
    "Historical data from the Internet Archive: <a href='https://web.archive.org/web/changes/https://livingwage.mit.edu/metros/14460'>https://web.archive.org/web/changes/https://livingwage.mit.edu/metros/14460</a>\",\n",
    "            showarrow=False,\n",
    "            align=\"left\",\n",
    "            font=dict(\n",
    "                size=10,\n",
    "                color=\"gray\"\n",
    "                )\n",
    "            )\n",
    "fig.update_layout(template='plotly_white', title='Graduate Stipends at Northeastern University')"
   ]
  },
  {
   "cell_type": "code",
   "execution_count": 55,
   "id": "cd6905ec",
   "metadata": {},
   "outputs": [],
   "source": [
    "fig.write_html('neu_grad_stipends.html')\n",
    "fig.write_image('neu_grad_stipends.png')"
   ]
  },
  {
   "cell_type": "code",
   "execution_count": null,
   "id": "a0f032b0",
   "metadata": {},
   "outputs": [],
   "source": []
  }
 ],
 "metadata": {
  "kernelspec": {
   "display_name": "Python 3 (ipykernel)",
   "language": "python",
   "name": "python3"
  },
  "language_info": {
   "codemirror_mode": {
    "name": "ipython",
    "version": 3
   },
   "file_extension": ".py",
   "mimetype": "text/x-python",
   "name": "python",
   "nbconvert_exporter": "python",
   "pygments_lexer": "ipython3",
   "version": "3.9.12"
  }
 },
 "nbformat": 4,
 "nbformat_minor": 5
}
