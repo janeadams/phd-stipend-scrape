{
 "cells": [
  {
   "cell_type": "code",
   "execution_count": 1,
   "id": "adc026b5",
   "metadata": {},
   "outputs": [],
   "source": [
    "import requests\n",
    "import pandas as pd"
   ]
  },
  {
   "cell_type": "code",
   "execution_count": 2,
   "id": "515fbbb6",
   "metadata": {},
   "outputs": [],
   "source": [
    "try: # Caching to not DDoS data source\n",
    "    df = pd.read_csv('stipends.csv')\n",
    "except:\n",
    "    df = pd.DataFrame()\n",
    "    for i in range(0,140):\n",
    "        response = requests.get('https://www.phdstipends.com/data/'+str(i))\n",
    "        j = response.json()\n",
    "        df = pd.concat([df, pd.DataFrame.from_dict(j['data'])])\n",
    "        # WARNING: They have removed their 'living wage ratio' from their website, presumably due to a data integrity issue.\n",
    "        # Use Living Wage data from elsewhere for your area.\n",
    "    df.columns = ['University','Department','Overall Pay', 'Living Wage Ratio','Academic Year','Program Year','Comments','12M Gross Pay','9M Gross Pay', '3M Gross Pay', 'Fees']\n",
    "    df.to_csv('stipends.csv', index=False)"
   ]
  },
  {
   "cell_type": "code",
   "execution_count": 3,
   "id": "3bba38bd",
   "metadata": {},
   "outputs": [],
   "source": [
    "# Clean comments\n",
    "df['Comments'] = [str(c).replace('. ', '.<br>').replace(', ', ',<br>').replace(') ', ')<br>') for c in df['Comments']]"
   ]
  },
  {
   "cell_type": "code",
   "execution_count": 4,
   "id": "1e52ad17",
   "metadata": {},
   "outputs": [
    {
     "name": "stdout",
     "output_type": "stream",
     "text": [
      "Most represented universities:\n",
      "Index(['University of Wisconsin - Madison (UW)', 'University of Pennsylvania',\n",
      "       'University of Michigan - Ann Arbor (UM)',\n",
      "       'University of California - Berkeley',\n",
      "       'Pennsylvania State University (Penn State)'],\n",
      "      dtype='object', name='University')\n"
     ]
    }
   ],
   "source": [
    "# Count number of entries per university\n",
    "uni_counts = df.groupby('University').size().sort_values(ascending=False)\n",
    "print(f'Most represented universities:\\n{uni_counts.index[:5]}')"
   ]
  },
  {
   "cell_type": "code",
   "execution_count": 5,
   "id": "ae7d167d",
   "metadata": {},
   "outputs": [],
   "source": [
    "# TODO:\n",
    "# When overall pay is negative, go by 12M gross pay (because the person entering misunderstood the gross pay/fees field)\n",
    "# When overall pay is slightly less than 12M gross pay, go by overall pay (because this accounts for dumb little fees)"
   ]
  },
  {
   "cell_type": "code",
   "execution_count": 6,
   "id": "5828e4ae",
   "metadata": {},
   "outputs": [],
   "source": [
    "def format_year(a):\n",
    "    try:\n",
    "        return float(a.split('-')[0])\n",
    "    except:\n",
    "        return 0\n",
    "df['Academic Year'] = [format_year(a) for a in df['Academic Year']]\n",
    "df = df.sort_values(by=['Academic Year'])"
   ]
  },
  {
   "cell_type": "code",
   "execution_count": 7,
   "id": "1d7a1d5a",
   "metadata": {},
   "outputs": [],
   "source": [
    "def format_pay(p):\n",
    "    if type(p) is str:\n",
    "        p = p.replace('$','').replace(',','')\n",
    "        try:\n",
    "            return float(p)\n",
    "        except:\n",
    "            return p\n",
    "    else: return p\n",
    "df['Overall Pay'] = [format_pay(p) for p in df['Overall Pay']]"
   ]
  },
  {
   "cell_type": "code",
   "execution_count": 8,
   "id": "c734a156",
   "metadata": {},
   "outputs": [],
   "source": [
    "def format_ratio(r):\n",
    "    try:\n",
    "        return float(r)\n",
    "    except:\n",
    "        return None\n",
    "df['Living Wage Ratio'] = [format_ratio(r) for r in df['Living Wage Ratio']]"
   ]
  },
  {
   "cell_type": "code",
   "execution_count": 9,
   "id": "e510374d",
   "metadata": {},
   "outputs": [],
   "source": [
    "def format_dept(d):\n",
    "    # TODO from mappings.json\n",
    "    return d"
   ]
  },
  {
   "cell_type": "code",
   "execution_count": 10,
   "id": "7c3ebbdb",
   "metadata": {},
   "outputs": [],
   "source": [
    "def collapse_categories(df):\n",
    "    # Collapse some categories if we can\n",
    "    entries = df['Department'].nunique()\n",
    "    df['Department'] = [str(d).lower().strip() for d in df['Department']]\n",
    "    print(f\"Reduced from {entries} to {df['Department'].nunique()} entries by formatting department strings to lowercase.\")\n",
    "    # TODO: Collapse categories using mappings.json\n",
    "    df['Aggregate Department'] = [format_dept(d) for d in df['Department']]\n",
    "    return df"
   ]
  },
  {
   "cell_type": "code",
   "execution_count": 11,
   "id": "b5cd382a",
   "metadata": {},
   "outputs": [],
   "source": [
    "def remove_outliers(df):\n",
    "    max_pay = 100_000\n",
    "    min_pay = 10_000\n",
    "    old_size = df.shape[0]\n",
    "    df = df[(df['Overall Pay'] < max_pay) & (df['Overall Pay'] > min_pay)]\n",
    "    print(f'Removed {old_size - df.shape[0]} entries where pay is less than {min_pay} or greater than {max_pay}.')\n",
    "    old_size = df.shape[0]\n",
    "    df = df[(df['Academic Year'] > 2010) & (df['Academic Year'] < 2027)]\n",
    "    print(f'Removed {old_size - df.shape[0]} entries where academic year is outside of 2010-2027.')\n",
    "    return df"
   ]
  },
  {
   "cell_type": "code",
   "execution_count": 12,
   "id": "ac96f90d",
   "metadata": {},
   "outputs": [
    {
     "name": "stdout",
     "output_type": "stream",
     "text": [
      "Reduced from 4101 to 3223 entries by formatting department strings to lowercase.\n",
      "Removed 1213 entries where pay is less than 10000 or greater than 100000.\n",
      "Removed 98 entries where academic year is outside of 2010-2027.\n"
     ]
    }
   ],
   "source": [
    "df = collapse_categories(df)\n",
    "df = remove_outliers(df)"
   ]
  },
  {
   "cell_type": "code",
   "execution_count": 13,
   "id": "6b776d54",
   "metadata": {},
   "outputs": [],
   "source": [
    "df.to_csv('cleaned_stipends.csv', index=False)"
   ]
  }
 ],
 "metadata": {
  "kernelspec": {
   "display_name": "Python 3 (ipykernel)",
   "language": "python",
   "name": "python3"
  },
  "language_info": {
   "codemirror_mode": {
    "name": "ipython",
    "version": 3
   },
   "file_extension": ".py",
   "mimetype": "text/x-python",
   "name": "python",
   "nbconvert_exporter": "python",
   "pygments_lexer": "ipython3",
   "version": "3.12.3"
  }
 },
 "nbformat": 4,
 "nbformat_minor": 5
}
